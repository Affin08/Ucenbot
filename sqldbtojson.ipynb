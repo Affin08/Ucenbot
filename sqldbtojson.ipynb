{
 "cells": [
  {
   "cell_type": "code",
   "execution_count": null,
   "metadata": {},
   "outputs": [],
   "source": [
    "import sqlite3\n",
    "\n",
    "conn = sqlite3.connect(\"db.sqlite3\")\n",
    "c = conn.cursor()\n",
    "\n",
    "sql_query = \"SELECT tag,patterns,responses FROM main_clginfointents\"\n",
    "\n",
    "c.execute(sql_query)\n",
    "\n",
    "intents = c.fetchall()\n",
    "# print(intents)\n",
    "\n",
    "tag_list = []\n",
    "patterns_list = []\n",
    "responses_list = []\n",
    "\n",
    "for intent in intents:\n",
    "    tag_list.append(intent[0])\n",
    "    patterns_list.append(intent[1])\n",
    "    responses_list.append(intent[2])\n",
    "\n",
    "print(tag_list)\n",
    "print(patterns_list)\n",
    "print(responses_list)\n",
    "\n",
    "conn.close()\n",
    "\n"
   ]
  },
  {
   "cell_type": "code",
   "execution_count": null,
   "metadata": {},
   "outputs": [],
   "source": [
    "import json\n",
    "\n",
    "with open(\"intents.json\") as file:\n",
    "    data = json.load(file)\n",
    "\n",
    "for i in range(len(tag_list)):\n",
    "    intent_list = []\n",
    "    for intent in data[\"intents\"]:\n",
    "        intent_list.append(intent)\n",
    "    print(intent_list)\n",
    "    intents_template = {\n",
    "          \"tag\": \"\",\n",
    "          \"patterns\": [],\n",
    "          \"responses\": [],\n",
    "          \"context_set\": [\"\"]\n",
    "        }\n",
    "    \n",
    "    getting_tag = tag_list[i]\n",
    "    getting_pattern = patterns_list[i]\n",
    "    getting_response = responses_list[i]\n",
    "\n",
    "    update_tag = {\"tag\": getting_tag}\n",
    "    update_patterns = {\"patterns\": [str(getting_pattern)]}\n",
    "    update_responses = {\"responses\":[str(getting_response)]}\n",
    "\n",
    "    intents_template.update(update_tag)\n",
    "    intents_template.update(update_patterns)\n",
    "    intents_template.update(update_responses)\n",
    "    # print(intents_template)\n",
    "    # intent_list.append(intents_template)\n",
    "    # print(intent_list)\n",
    "    def write_json(new_data, filename='intents.json'):\n",
    "        with open(filename,'r+') as file:\n",
    "              # First we load existing data into a dict.\n",
    "            file_data = json.load(file)\n",
    "            # Join new_data with file_data inside emp_details\n",
    "            file_data[\"intents\"].append(new_data)\n",
    "            # Sets file's current position at offset.\n",
    "            file.seek(0)\n",
    "            # convert back to json.\n",
    "            json.dump(file_data, file, indent = 4)\n",
    "    write_json(intents_template)"
   ]
  },
  {
   "cell_type": "code",
   "execution_count": 7,
   "metadata": {},
   "outputs": [
    {
     "name": "stdout",
     "output_type": "stream",
     "text": [
      "('timing of football is 5 PM', None, 'captain of football is Alan', None, None, None, None)\n"
     ]
    }
   ],
   "source": [
    "import sqlite3\n",
    "query = f\"SELECT time_of_game,game_list,captain_of_game,staff,grounds,tournament_timing,overview FROM sports_details WHERE game_details_tag ='football'\" \n",
    "conn = sqlite3.connect(\"db.sqlite3\")\n",
    "c = conn.cursor()\n",
    "c.execute(query)\n",
    "results = c.fetchall()\n",
    "conn.close()\n",
    "print(results[0])"
   ]
  },
  {
   "cell_type": "code",
   "execution_count": 13,
   "metadata": {},
   "outputs": [
    {
     "data": {
      "text/html": [
       "<div>\n",
       "<style scoped>\n",
       "    .dataframe tbody tr th:only-of-type {\n",
       "        vertical-align: middle;\n",
       "    }\n",
       "\n",
       "    .dataframe tbody tr th {\n",
       "        vertical-align: top;\n",
       "    }\n",
       "\n",
       "    .dataframe thead th {\n",
       "        text-align: right;\n",
       "    }\n",
       "</style>\n",
       "<table border=\"1\" class=\"dataframe\">\n",
       "  <thead>\n",
       "    <tr style=\"text-align: right;\">\n",
       "      <th></th>\n",
       "      <th>library_details_tag</th>\n",
       "      <th>details1</th>\n",
       "    </tr>\n",
       "  </thead>\n",
       "  <tbody>\n",
       "    <tr>\n",
       "      <th>0</th>\n",
       "      <td>where is library</td>\n",
       "      <td>None</td>\n",
       "    </tr>\n",
       "    <tr>\n",
       "      <th>1</th>\n",
       "      <td>are books arrange according to departments</td>\n",
       "      <td>yes,  books are arrange according to departments</td>\n",
       "    </tr>\n",
       "    <tr>\n",
       "      <th>2</th>\n",
       "      <td>where can i find library</td>\n",
       "      <td>204</td>\n",
       "    </tr>\n",
       "    <tr>\n",
       "      <th>3</th>\n",
       "      <td>room number of library</td>\n",
       "      <td>204</td>\n",
       "    </tr>\n",
       "    <tr>\n",
       "      <th>4</th>\n",
       "      <td>where is library located</td>\n",
       "      <td>204</td>\n",
       "    </tr>\n",
       "  </tbody>\n",
       "</table>\n",
       "</div>"
      ],
      "text/plain": [
       "                          library_details_tag  \\\n",
       "0                           where is library    \n",
       "1  are books arrange according to departments   \n",
       "2                    where can i find library   \n",
       "3                      room number of library   \n",
       "4                    where is library located   \n",
       "\n",
       "                                           details1  \n",
       "0                                              None  \n",
       "1  yes,  books are arrange according to departments  \n",
       "2                                               204  \n",
       "3                                               204  \n",
       "4                                               204  "
      ]
     },
     "metadata": {},
     "output_type": "display_data"
    }
   ],
   "source": [
    "import pandas as pd\n",
    "import sqlite3\n",
    "\n",
    "# Read sqlite query results into a pandas DataFrame\n",
    "con = sqlite3.connect(\"db.sqlite3\")\n",
    "df = pd.read_sql_query(\"SELECT * from library_details\", con)\n",
    "\n",
    "# Verify that result of SQL query is stored in the dataframe\n",
    "\n",
    "con.close()\n"
   ]
  },
  {
   "cell_type": "code",
   "execution_count": null,
   "metadata": {},
   "outputs": [],
   "source": []
  }
 ],
 "metadata": {
  "interpreter": {
   "hash": "ad2bdc8ecc057115af97d19610ffacc2b4e99fae6737bb82f5d7fb13d2f2c186"
  },
  "kernelspec": {
   "display_name": "Python 3.9.7 ('base')",
   "language": "python",
   "name": "python3"
  },
  "language_info": {
   "codemirror_mode": {
    "name": "ipython",
    "version": 3
   },
   "file_extension": ".py",
   "mimetype": "text/x-python",
   "name": "python",
   "nbconvert_exporter": "python",
   "pygments_lexer": "ipython3",
   "version": "3.9.7"
  },
  "orig_nbformat": 4
 },
 "nbformat": 4,
 "nbformat_minor": 2
}
