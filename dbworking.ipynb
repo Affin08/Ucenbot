{
 "cells": [
  {
   "cell_type": "code",
   "execution_count": null,
   "metadata": {},
   "outputs": [],
   "source": [
    "import sqlite3\n",
    "\n",
    "conn = sqlite3.connect(\"chinook.db\")\n",
    "c = conn.cursor()\n",
    "\n",
    "sql_query = \"SELECT trackid,name,composer,unitprice FROM tracks\"\n",
    "\n",
    "c.execute(sql_query)\n",
    "\n",
    "results = c.fetchall()\n",
    "# print(results)\n",
    "results_list = [' '.join(map(str, list(i))) for i in results]\n",
    "print(results_list)\n",
    "\n",
    "\n"
   ]
  },
  {
   "cell_type": "code",
   "execution_count": 26,
   "metadata": {},
   "outputs": [],
   "source": [
    "import json\n",
    "\n",
    "for i in range(len(results_list)):\n",
    "    with open(\"intents.json\") as file:\n",
    "        data = json.load(file)\n",
    "\n",
    "    intent_list = []\n",
    "    for intent in data[\"intents\"]:\n",
    "        intent_list.append(intent)\n",
    "    # print(intent_list)\n",
    "    intents_template = {\n",
    "          \"tag\": \"\",\n",
    "          \"patterns\": [],\n",
    "          \"responses\": [],\n",
    "          \"context_set\": [\"\"]\n",
    "        }\n",
    "    \n",
    "    \n",
    "    getting_pattern = results_list[i]\n",
    "\n",
    "\n",
    "    update_tag = {\"tag\": getting_pattern}\n",
    "    update_patterns = {\"patterns\": [str(getting_pattern)]}\n",
    "    update_responses = {\"responses\":[str(getting_pattern)]}\n",
    "\n",
    "    intents_template.update(update_tag)\n",
    "    intents_template.update(update_patterns)\n",
    "    intents_template.update(update_responses)\n",
    "    # print(intents_template)\n",
    "    # intent_list.append(intents_template)\n",
    "    # print(intent_list)\n",
    "    def write_json(new_data, filename='intents.json'):\n",
    "        with open(filename,'r+') as file:\n",
    "              # First we load existing data into a dict.\n",
    "            file_data = json.load(file)\n",
    "            # Join new_data with file_data inside emp_details\n",
    "            file_data[\"intents\"].append(new_data)\n",
    "            # Sets file's current position at offset.\n",
    "            file.seek(0)\n",
    "            # convert back to json.\n",
    "            json.dump(file_data, file, indent = 4)\n",
    "    write_json(intents_template)"
   ]
  }
 ],
 "metadata": {
  "interpreter": {
   "hash": "ad2bdc8ecc057115af97d19610ffacc2b4e99fae6737bb82f5d7fb13d2f2c186"
  },
  "kernelspec": {
   "display_name": "Python 3.9.7 ('base')",
   "language": "python",
   "name": "python3"
  },
  "language_info": {
   "codemirror_mode": {
    "name": "ipython",
    "version": 3
   },
   "file_extension": ".py",
   "mimetype": "text/x-python",
   "name": "python",
   "nbconvert_exporter": "python",
   "pygments_lexer": "ipython3",
   "version": "3.9.7"
  },
  "orig_nbformat": 4
 },
 "nbformat": 4,
 "nbformat_minor": 2
}
