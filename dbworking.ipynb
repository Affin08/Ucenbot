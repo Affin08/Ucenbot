{
 "cells": [
  {
   "cell_type": "code",
   "execution_count": 2,
   "metadata": {},
   "outputs": [
    {
     "name": "stdout",
     "output_type": "stream",
     "text": [
      "['1 For Those About To Rock (We Salute You) Angus Young, Malcolm Young, Brian Johnson 0.99', '2 Balls to the Wall None 0.99', '3 Fast As a Shark F. Baltes, S. Kaufman, U. Dirkscneider & W. Hoffman 0.99', '4 Restless and Wild F. Baltes, R.A. Smith-Diesel, S. Kaufman, U. Dirkscneider & W. Hoffman 0.99', '5 Princess of the Dawn Deaffy & R.A. Smith-Diesel 0.99', '6 Put The Finger On You Angus Young, Malcolm Young, Brian Johnson 0.99', \"7 Let's Get It Up Angus Young, Malcolm Young, Brian Johnson 0.99\", '8 Inject The Venom Angus Young, Malcolm Young, Brian Johnson 0.99', '9 Snowballed Angus Young, Malcolm Young, Brian Johnson 0.99', '10 Evil Walks Angus Young, Malcolm Young, Brian Johnson 0.99', '11 C.O.D. Angus Young, Malcolm Young, Brian Johnson 0.99', '12 Breaking The Rules Angus Young, Malcolm Young, Brian Johnson 0.99', '13 Night Of The Long Knives Angus Young, Malcolm Young, Brian Johnson 0.99', '14 Spellbound Angus Young, Malcolm Young, Brian Johnson 0.99', '15 Go Down AC/DC 0.99', '16 Dog Eat Dog AC/DC 0.99', '17 Let There Be Rock AC/DC 0.99', '18 Bad Boy Boogie AC/DC 0.99', '19 Problem Child AC/DC 0.99', '20 Overdose AC/DC 0.99']\n"
     ]
    }
   ],
   "source": [
    "import sqlite3\n",
    "\n",
    "conn = sqlite3.connect(\"db.sqlite3\")\n",
    "c = conn.cursor()\n",
    "\n",
    "sql_query = \"SELECT trackid,name,composer,unitprice FROM tracks WHERE trackid \"\n",
    "\n",
    "c.execute(sql_query)\n",
    "\n",
    "results = c.fetchall()\n",
    "# print(results)\n",
    "results_list = [' '.join(map(str, list(i))) for i in results]\n",
    "print(results_list)\n",
    "conn.close()\n",
    "\n",
    "\n"
   ]
  },
  {
   "cell_type": "code",
   "execution_count": 26,
   "metadata": {},
   "outputs": [],
   "source": [
    "import json\n",
    "\n",
    "for i in range(len(results_list)):\n",
    "    with open(\"intents.json\") as file:\n",
    "        data = json.load(file)\n",
    "\n",
    "    intent_list = []\n",
    "    for intent in data[\"intents\"]:\n",
    "        intent_list.append(intent)\n",
    "    # print(intent_list)\n",
    "    intents_template = {\n",
    "          \"tag\": \"\",\n",
    "          \"patterns\": [],\n",
    "          \"responses\": [],\n",
    "          \"context_set\": [\"\"]\n",
    "        }\n",
    "    \n",
    "    \n",
    "    getting_pattern = results_list[i]\n",
    "\n",
    "\n",
    "    update_tag = {\"tag\": getting_pattern}\n",
    "    update_patterns = {\"patterns\": [str(getting_pattern)]}\n",
    "    update_responses = {\"responses\":[str(getting_pattern)]}\n",
    "\n",
    "    intents_template.update(update_tag)\n",
    "    intents_template.update(update_patterns)\n",
    "    intents_template.update(update_responses)\n",
    "    # print(intents_template)\n",
    "    # intent_list.append(intents_template)\n",
    "    # print(intent_list)\n",
    "    def write_json(new_data, filename='intents.json'):\n",
    "        with open(filename,'r+') as file:\n",
    "              # First we load existing data into a dict.\n",
    "            file_data = json.load(file)\n",
    "            # Join new_data with file_data inside emp_details\n",
    "            file_data[\"intents\"].append(new_data)\n",
    "            # Sets file's current position at offset.\n",
    "            file.seek(0)\n",
    "            # convert back to json.\n",
    "            json.dump(file_data, file, indent = 4)\n",
    "    write_json(intents_template)"
   ]
  },
  {
   "cell_type": "code",
   "execution_count": 3,
   "metadata": {},
   "outputs": [
    {
     "data": {
      "text/plain": [
       "'SELECT books,author FROM library where books = william'"
      ]
     },
     "execution_count": 3,
     "metadata": {},
     "output_type": "execute_result"
    }
   ],
   "source": [
    "inp = \"william\"\n",
    "query = \"SELECT books,author FROM library where books = \" + inp\n",
    "query"
   ]
  },
  {
   "cell_type": "code",
   "execution_count": 2,
   "metadata": {},
   "outputs": [
    {
     "data": {
      "text/plain": [
       "\"hello 'world'\""
      ]
     },
     "execution_count": 2,
     "metadata": {},
     "output_type": "execute_result"
    }
   ],
   "source": [
    "wrld = \"world\"\n",
    "strformatting = f\"hello '{wrld}'\"\n",
    "strformatting"
   ]
  },
  {
   "cell_type": "code",
   "execution_count": null,
   "metadata": {},
   "outputs": [],
   "source": []
  }
 ],
 "metadata": {
  "interpreter": {
   "hash": "ad2bdc8ecc057115af97d19610ffacc2b4e99fae6737bb82f5d7fb13d2f2c186"
  },
  "kernelspec": {
   "display_name": "Python 3.9.7 ('base')",
   "language": "python",
   "name": "python3"
  },
  "language_info": {
   "codemirror_mode": {
    "name": "ipython",
    "version": 3
   },
   "file_extension": ".py",
   "mimetype": "text/x-python",
   "name": "python",
   "nbconvert_exporter": "python",
   "pygments_lexer": "ipython3",
   "version": "3.9.7"
  },
  "orig_nbformat": 4
 },
 "nbformat": 4,
 "nbformat_minor": 2
}
